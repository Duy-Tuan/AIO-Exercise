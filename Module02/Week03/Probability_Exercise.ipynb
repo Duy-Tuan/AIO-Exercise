{
 "cells": [
  {
   "cell_type": "markdown",
   "id": "0766ac9b-fd6b-4c37-902c-864b07e04643",
   "metadata": {},
   "source": [
    "# Play Tennis Classifier Implementation"
   ]
  },
  {
   "cell_type": "markdown",
   "id": "fc32953c-6bd9-4b6b-9fc7-a644a9d3fcd8",
   "metadata": {},
   "source": [
    "## Create data"
   ]
  },
  {
   "cell_type": "code",
   "execution_count": 19,
   "id": "a5449655-3fa8-4181-946c-f8820637ad16",
   "metadata": {},
   "outputs": [
    {
     "name": "stdout",
     "output_type": "stream",
     "text": [
      "[['Sunny' 'Hot' 'High' 'Weak' 'no']\n",
      " ['Sunny' 'Hot' 'High' 'Strong' 'no']\n",
      " ['Overcast' 'Hot' 'High' 'Weak' 'yes']\n",
      " ['Rain' 'Mild' 'High' 'Weak' 'yes']\n",
      " ['Rain' 'Cool' 'Normal' 'Weak' 'yes']\n",
      " ['Rain' 'Cool' 'Normal' 'Strong' 'no']\n",
      " ['Overcast' 'Cool' 'Normal' 'Strong' 'yes']\n",
      " ['Overcast' 'Mild' 'High' 'Weak' 'no']\n",
      " ['Sunny' 'Cool' 'Normal' 'Weak' 'yes']\n",
      " ['Rain' 'Mild' 'Normal' 'Weak' 'yes']]\n"
     ]
    }
   ],
   "source": [
    "import numpy as np\n",
    "\n",
    "def create_train_data():\n",
    "    data = [[\"Sunny\", \"Hot\", \"High\", \"Weak\", \"no\"],\n",
    "            [\"Sunny\", \"Hot\", \"High\", \"Strong\", \"no\"],\n",
    "            [\"Overcast\", \"Hot\", \"High\", \"Weak\", \"yes\"],\n",
    "            [\"Rain\", \"Mild\", \"High\", \"Weak\", \"yes\"],\n",
    "            [\"Rain\", \"Cool\", \"Normal\", \"Weak\", \"yes\"],\n",
    "            [\"Rain\", \"Cool\", \"Normal\", \"Strong\", \"no\"],\n",
    "            [\"Overcast\", \"Cool\", \"Normal\", \"Strong\", \"yes\"],\n",
    "            [\"Overcast\", \"Mild\", \"High\", \"Weak\", \"no\"],\n",
    "            [\"Sunny\", \"Cool\", \"Normal\", \"Weak\", \"yes\"],\n",
    "            [\"Rain\", \"Mild\", \"Normal\", \"Weak\", \"yes\"]]\n",
    "    return np.array(data)\n",
    "\n",
    "train_data = create_train_data ()\n",
    "print(train_data)"
   ]
  },
  {
   "cell_type": "code",
   "execution_count": 24,
   "id": "0195756d-cc3d-4296-bcd1-52a2c078eb43",
   "metadata": {},
   "outputs": [],
   "source": [
    "def compute_prior_probability(train_data):\n",
    "    y_unique = [\"no\", \"yes\"]\n",
    "    prior_probability = np.zeros(len(y_unique))\n",
    "\n",
    "    for i, class_ in enumerate(y_unique):\n",
    "        number_of_y = len(train_data[train_data[:, -1] == class_])\n",
    "        prior_probability[i] = number_of_y / len(train_data)\n",
    "    return prior_probability"
   ]
  },
  {
   "cell_type": "code",
   "execution_count": 29,
   "id": "65110191-0690-4793-b796-4a5ac1df27ff",
   "metadata": {},
   "outputs": [
    {
     "name": "stdout",
     "output_type": "stream",
     "text": [
      "P(play tennis = No) 0.4\n",
      "P(play tennis = Yes) 0.6\n"
     ]
    }
   ],
   "source": [
    "# Exericse 14\n",
    "prior_probablity = compute_prior_probability(train_data)\n",
    "print(\"P(play tennis = No)\", prior_probablity[0])\n",
    "print(\"P(play tennis = Yes)\", prior_probablity[1])"
   ]
  },
  {
   "cell_type": "code",
   "execution_count": 50,
   "id": "d4b47210-c8d9-481b-bee1-c85aff43bb70",
   "metadata": {},
   "outputs": [],
   "source": [
    "def compute_conditional_probability(train_data):\n",
    "    y_unique = [\"no\", \"yes\"]\n",
    "    conditional_probability = []\n",
    "    list_x_name = []\n",
    "\n",
    "    for i in range(0, train_data.shape[1] - 1):\n",
    "        x_unique = np.unique(train_data[:, i])\n",
    "        list_x_name.append(x_unique)\n",
    "        x_conditional_probability = np.zeros((len(y_unique), len(x_unique)))\n",
    "        for j, y in enumerate(y_unique):\n",
    "            for k, x in enumerate(x_unique):\n",
    "                x_conditional_probability[j, k] = len(np.where((train_data[:, i] == x) & (train_data[:, -1] == y))[0]) / len(np.where(train_data[:, -1] == y)[0])\n",
    "        conditional_probability.append(x_conditional_probability)\n",
    "    return conditional_probability, list_x_name"
   ]
  },
  {
   "cell_type": "code",
   "execution_count": 51,
   "id": "c41159a2-37ca-4549-9b42-72a86d0597ef",
   "metadata": {},
   "outputs": [
    {
     "name": "stdout",
     "output_type": "stream",
     "text": [
      "x1 =  ['Overcast' 'Rain' 'Sunny']\n",
      "x2 =  ['Cool' 'Hot' 'Mild']\n",
      "x3 =  ['High' 'Normal']\n",
      "x4 =  ['Strong' 'Weak']\n"
     ]
    }
   ],
   "source": [
    "# Exericse 15\n",
    "train_data = create_train_data ()\n",
    "_, list_x_name = compute_conditional_probability(train_data)\n",
    "print(\"x1 = \",list_x_name[0])\n",
    "print(\"x2 = \",list_x_name[1])\n",
    "print(\"x3 = \",list_x_name[2])\n",
    "print(\"x4 = \",list_x_name[3])"
   ]
  },
  {
   "cell_type": "code",
   "execution_count": 52,
   "id": "cef318c6-429d-409d-8946-4bb098e85a8c",
   "metadata": {},
   "outputs": [],
   "source": [
    "#This function is used to return the index of the feature name\n",
    "def get_index_from_value(feature_name , list_features):\n",
    "    return np.where(list_features == feature_name)[0][0]"
   ]
  },
  {
   "cell_type": "code",
   "execution_count": 53,
   "id": "f56fe1ae-c56d-4172-a698-49f8d55f37ac",
   "metadata": {},
   "outputs": [
    {
     "name": "stdout",
     "output_type": "stream",
     "text": [
      "0 1 2\n"
     ]
    }
   ],
   "source": [
    "# Exericse 16\n",
    "train_data = create_train_data()\n",
    "_, list_x_name = compute_conditional_probability(train_data)\n",
    "outlook = list_x_name[0]\n",
    "\n",
    "i1 = get_index_from_value(\"Overcast\", outlook)\n",
    "i2 = get_index_from_value(\"Rain\", outlook)\n",
    "i3 = get_index_from_value(\"Sunny\", outlook)\n",
    "\n",
    "print(i1 , i2, i3)"
   ]
  },
  {
   "cell_type": "code",
   "execution_count": 54,
   "id": "c364b791-45ac-4140-921b-74c7f309a60e",
   "metadata": {},
   "outputs": [
    {
     "name": "stdout",
     "output_type": "stream",
     "text": [
      "P('Outlook'='Sunny'|Play Tennis'='Yes') =  0.17\n"
     ]
    }
   ],
   "source": [
    "# Exericse 17\n",
    "train_data = create_train_data()\n",
    "conditional_probability, list_x_name  = compute_conditional_probability(train_data)\n",
    "# Compute P(\"Outlook\"=\"Sunny\"|Play Tennis\"=\"Yes\")\n",
    "x1=get_index_from_value(\"Sunny\",list_x_name[0])\n",
    "print(\"P('Outlook'='Sunny'|Play Tennis'='Yes') = \", np.round(conditional_probability[0][1, x1],2))"
   ]
  },
  {
   "cell_type": "code",
   "execution_count": 73,
   "id": "61f8d04c-6cd1-4d26-915f-b895ecf55be2",
   "metadata": {},
   "outputs": [
    {
     "name": "stdout",
     "output_type": "stream",
     "text": [
      "P('Outlook'='Sunny'|'Play Tennis'='No') =  0.5\n"
     ]
    }
   ],
   "source": [
    "# Exericse 18\n",
    "train_data = create_train_data()\n",
    "conditional_probability , list_x_name = compute_conditional_probability(train_data)\n",
    "# Compute P(\" Outlook \"=\" Sunny \"|Play Tennis \"=\"No\")\n",
    "x1=get_index_from_value(\"Sunny\",list_x_name[0])\n",
    "print(\"P('Outlook'='Sunny'|'Play Tennis'='No') = \", np.round(conditional_probability[0][0, x1],2))"
   ]
  },
  {
   "cell_type": "code",
   "execution_count": 84,
   "id": "bf9458dd-bb92-454f-a79a-20c86adbadd1",
   "metadata": {},
   "outputs": [],
   "source": [
    "###########################\n",
    "# Train Naive Bayes Model\n",
    "###########################\n",
    "def train_naive_bayes(train_data):\n",
    "    # Step 1: Calculate Prior Probability\n",
    "    prior_probability = compute_prior_probability(train_data)\n",
    "\n",
    "    # Step 2: Calculate Conditional Probability\n",
    "    conditional_probability, list_x_name  = compute_conditional_probability(train_data)\n",
    "\n",
    "    return prior_probability,conditional_probability, list_x_name\n"
   ]
  },
  {
   "cell_type": "code",
   "execution_count": 85,
   "id": "e00186af-e522-4f05-a082-e766d897803f",
   "metadata": {},
   "outputs": [],
   "source": [
    "####################\n",
    "# Prediction\n",
    "####################\n",
    "def prediction_play_tennis(X, list_x_name, prior_probability, conditional_probability):\n",
    "\n",
    "    x1=get_index_from_value(X[0],list_x_name[0])\n",
    "    x2=get_index_from_value(X[1],list_x_name[1])\n",
    "    x3=get_index_from_value(X[2],list_x_name[2])\n",
    "    x4=get_index_from_value(X[3],list_x_name[3])\n",
    "\n",
    "    p0=prior_probability[0] *conditional_probability[0][0,x1] *conditional_probability[1][0,x2] * conditional_probability[2][0,x3] * conditional_probability[3][0,x4]\n",
    "    p1=prior_probability[1] *conditional_probability[0][1,x1] *conditional_probability[1][1,x2] * conditional_probability[2][1,x3] * conditional_probability[3][1,x4]\n",
    "\n",
    "    if p0>p1:\n",
    "        y_pred=0\n",
    "    else:\n",
    "        y_pred=1\n",
    "\n",
    "    return y_pred"
   ]
  },
  {
   "cell_type": "code",
   "execution_count": 86,
   "id": "350c747d-4771-4972-af69-ffc446a89bfd",
   "metadata": {
    "collapsed": true,
    "jupyter": {
     "outputs_hidden": true
    },
    "scrolled": true
   },
   "outputs": [
    {
     "ename": "IndexError",
     "evalue": "index 0 is out of bounds for axis 0 with size 0",
     "output_type": "error",
     "traceback": [
      "\u001b[1;31m---------------------------------------------------------------------------\u001b[0m",
      "\u001b[1;31mIndexError\u001b[0m                                Traceback (most recent call last)",
      "Cell \u001b[1;32mIn[86], line 4\u001b[0m\n\u001b[0;32m      2\u001b[0m data \u001b[38;5;241m=\u001b[39m create_train_data ()\n\u001b[0;32m      3\u001b[0m prior_probability ,conditional_probability , list_x_name \u001b[38;5;241m=\u001b[39m train_naive_bayes(data)\n\u001b[1;32m----> 4\u001b[0m pred \u001b[38;5;241m=\u001b[39m \u001b[43mprediction_play_tennis\u001b[49m\u001b[43m(\u001b[49m\u001b[43mX\u001b[49m\u001b[43m,\u001b[49m\u001b[43m \u001b[49m\u001b[43mlist_x_name\u001b[49m\u001b[43m \u001b[49m\u001b[43m,\u001b[49m\u001b[43m \u001b[49m\u001b[43mprior_probability\u001b[49m\u001b[43m \u001b[49m\u001b[43m,\u001b[49m\u001b[43m \u001b[49m\u001b[43mconditional_probability\u001b[49m\u001b[43m)\u001b[49m\n\u001b[0;32m      6\u001b[0m \u001b[38;5;28;01mif\u001b[39;00m(pred):\n\u001b[0;32m      7\u001b[0m     \u001b[38;5;28mprint\u001b[39m(\u001b[38;5;124m\"\u001b[39m\u001b[38;5;124mAd should go!\u001b[39m\u001b[38;5;124m\"\u001b[39m)\n",
      "Cell \u001b[1;32mIn[85], line 6\u001b[0m, in \u001b[0;36mprediction_play_tennis\u001b[1;34m(X, list_x_name, prior_probability, conditional_probability)\u001b[0m\n\u001b[0;32m      4\u001b[0m \u001b[38;5;28;01mdef\u001b[39;00m \u001b[38;5;21mprediction_play_tennis\u001b[39m(X, list_x_name, prior_probability, conditional_probability):\n\u001b[1;32m----> 6\u001b[0m     x1\u001b[38;5;241m=\u001b[39m\u001b[43mget_index_from_value\u001b[49m\u001b[43m(\u001b[49m\u001b[43mX\u001b[49m\u001b[43m[\u001b[49m\u001b[38;5;241;43m0\u001b[39;49m\u001b[43m]\u001b[49m\u001b[43m,\u001b[49m\u001b[43mlist_x_name\u001b[49m\u001b[43m[\u001b[49m\u001b[38;5;241;43m0\u001b[39;49m\u001b[43m]\u001b[49m\u001b[43m)\u001b[49m\n\u001b[0;32m      7\u001b[0m     x2\u001b[38;5;241m=\u001b[39mget_index_from_value(X[\u001b[38;5;241m1\u001b[39m],list_x_name[\u001b[38;5;241m1\u001b[39m])\n\u001b[0;32m      8\u001b[0m     x3\u001b[38;5;241m=\u001b[39mget_index_from_value(X[\u001b[38;5;241m2\u001b[39m],list_x_name[\u001b[38;5;241m2\u001b[39m])\n",
      "Cell \u001b[1;32mIn[52], line 3\u001b[0m, in \u001b[0;36mget_index_from_value\u001b[1;34m(feature_name, list_features)\u001b[0m\n\u001b[0;32m      2\u001b[0m \u001b[38;5;28;01mdef\u001b[39;00m \u001b[38;5;21mget_index_from_value\u001b[39m(feature_name , list_features):\n\u001b[1;32m----> 3\u001b[0m     \u001b[38;5;28;01mreturn\u001b[39;00m \u001b[43mnp\u001b[49m\u001b[38;5;241;43m.\u001b[39;49m\u001b[43mwhere\u001b[49m\u001b[43m(\u001b[49m\u001b[43mlist_features\u001b[49m\u001b[43m \u001b[49m\u001b[38;5;241;43m==\u001b[39;49m\u001b[43m \u001b[49m\u001b[43mfeature_name\u001b[49m\u001b[43m)\u001b[49m\u001b[43m[\u001b[49m\u001b[38;5;241;43m0\u001b[39;49m\u001b[43m]\u001b[49m\u001b[43m[\u001b[49m\u001b[38;5;241;43m0\u001b[39;49m\u001b[43m]\u001b[49m\n",
      "\u001b[1;31mIndexError\u001b[0m: index 0 is out of bounds for axis 0 with size 0"
     ]
    }
   ],
   "source": [
    "X = [\"Sunny \",\"Cool\", \"High\", \"Strong\"]\n",
    "data = create_train_data ()\n",
    "prior_probability ,conditional_probability , list_x_name = train_naive_bayes(data)\n",
    "pred = prediction_play_tennis(X, list_x_name , prior_probability , conditional_probability)\n",
    "\n",
    "if(pred):\n",
    "    print(\"Ad should go!\")\n",
    "else:\n",
    "    print(\"Ad should not go!\")"
   ]
  },
  {
   "cell_type": "code",
   "execution_count": null,
   "id": "89295d8f-3298-48ef-aa3b-910bf7245091",
   "metadata": {},
   "outputs": [],
   "source": []
  },
  {
   "cell_type": "code",
   "execution_count": null,
   "id": "2cb7b948-0587-4d7b-8347-d00f4f703f1c",
   "metadata": {},
   "outputs": [],
   "source": []
  }
 ],
 "metadata": {
  "kernelspec": {
   "display_name": "Python 3 (ipykernel)",
   "language": "python",
   "name": "python3"
  },
  "language_info": {
   "codemirror_mode": {
    "name": "ipython",
    "version": 3
   },
   "file_extension": ".py",
   "mimetype": "text/x-python",
   "name": "python",
   "nbconvert_exporter": "python",
   "pygments_lexer": "ipython3",
   "version": "3.10.14"
  }
 },
 "nbformat": 4,
 "nbformat_minor": 5
}
