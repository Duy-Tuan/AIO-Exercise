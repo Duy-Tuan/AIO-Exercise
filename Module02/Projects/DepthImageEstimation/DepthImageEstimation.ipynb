{
 "cells": [
  {
   "cell_type": "markdown",
   "id": "bc1ca7c6-664c-495b-9702-9c8491a4bf12",
   "metadata": {},
   "source": [
    "# Problem 1\n"
   ]
  },
  {
   "cell_type": "markdown",
   "id": "79254322-8f9c-4d2b-9ca1-40558b2ab409",
   "metadata": {},
   "source": [
    "## Distance L1"
   ]
  },
  {
   "cell_type": "code",
   "execution_count": 4,
   "id": "743b4e21-e636-4953-a631-9d36521d4c3b",
   "metadata": {},
   "outputs": [],
   "source": [
    "import os\n",
    "\n",
    "result_path = \"problem1_result\"\n",
    "os.makedirs(result_path, exist_ok=True)"
   ]
  },
  {
   "cell_type": "code",
   "execution_count": 5,
   "id": "1d3f7fc9-c091-4a52-a5c6-93fa98188e30",
   "metadata": {},
   "outputs": [],
   "source": [
    "import numpy as np\n",
    "import cv2\n",
    "\n",
    "def distance_l1(x, y):\n",
    "    return np.abs(x - y)\n",
    "\n",
    "def pixel_wise_matching_l1(left_img, right_img, disparity_range, save_result=True):\n",
    "    left  = cv2.imread(left_img, 0)\n",
    "    right = cv2.imread(right_img, 0)\n",
    "\n",
    "    left  = left.astype(np.float32)\n",
    "    right = right.astype(np.float32)\n",
    "\n",
    "    height, width = left.shape[:2]\n",
    "\n",
    "    # Create blank disparity map\n",
    "    depth = np.zeros((height, width), np.uint8)\n",
    "    scale = 16\n",
    "    max_value = 255\n",
    "\n",
    "    for y in range(height):\n",
    "        for x in range(width):\n",
    "            # Find j where cost has minimum value\n",
    "            disparity = 0\n",
    "            cost_min  = max_value\n",
    "\n",
    "            for j in range(disparity_range):\n",
    "                cost = max_value if (x - j) < 0 else distance_l1(int(left[y, x]), int(right[y, x - j]))\n",
    "\n",
    "                if cost < cost_min:\n",
    "                    cost_min  = cost\n",
    "                    disparity = j\n",
    "\n",
    "            # Let depth at (y, x) = j (disparity)\n",
    "            # Multiply by a scale factor for visualization purpose\n",
    "            depth[y, x] = disparity * scale\n",
    "\n",
    "    if save_result == True:\n",
    "        print('Saving result...')\n",
    "        # Save results\n",
    "        cv2.imwrite(f'{result_path}/pixel_wise_l1.png', depth)\n",
    "        cv2.imwrite(f'{result_path}/pixel_wise_l1_color.png', cv2.applyColorMap(depth, cv2.COLORMAP_JET))\n",
    "\n",
    "    print('Done.')\n",
    "\n",
    "    return depth, cv2.applyColorMap(depth, cv2.COLORMAP_JET)"
   ]
  },
  {
   "cell_type": "code",
   "execution_count": 6,
   "id": "9f541a9a-3f52-41a8-b1d3-9fe5dfa95343",
   "metadata": {},
   "outputs": [
    {
     "name": "stdout",
     "output_type": "stream",
     "text": [
      "Saving result...\n",
      "Done.\n"
     ]
    }
   ],
   "source": [
    "left_img_path = \"tsukuba/left.png\"\n",
    "right_img_path = \"tsukuba/right.png\"\n",
    "disparity_range = 16\n",
    "\n",
    "depth, color = pixel_wise_matching_l1(left_img_path, right_img_path, disparity_range, save_result=True)\n",
    "\n"
   ]
  },
  {
   "cell_type": "markdown",
   "id": "2334968a-843d-4ed1-936d-8cb30c32d039",
   "metadata": {},
   "source": [
    "## Distance L2"
   ]
  },
  {
   "cell_type": "code",
   "execution_count": 9,
   "id": "246004e6-39e2-4bad-b0e2-cbcc6b0fe7af",
   "metadata": {},
   "outputs": [],
   "source": [
    "import numpy as np\n",
    "import cv2\n",
    "\n",
    "def distance_l2(x, y):\n",
    "    return np.power(x - y, 2)\n",
    "\n",
    "def pixel_wise_matching_l2(left_img, right_img, disparity_range, save_result=True):\n",
    "    left  = cv2.imread(left_img, 0)\n",
    "    right = cv2.imread(right_img, 0)\n",
    "\n",
    "    left  = left.astype(np.float32)\n",
    "    right = right.astype(np.float32)\n",
    "\n",
    "    height, width = left.shape[:2]\n",
    "\n",
    "    # Create blank disparity map\n",
    "    depth = np.zeros((height, width), np.uint8)\n",
    "    scale = 16\n",
    "    max_value = 255\n",
    "\n",
    "    for y in range(height):\n",
    "        for x in range(width):\n",
    "            # Find j where cost has minimum value\n",
    "            disparity = 0\n",
    "            cost_min  = max_value\n",
    "\n",
    "            for j in range(disparity_range):\n",
    "                cost = max_value if (x - j) < 0 else distance_l2(int(left[y, x]), int(right[y, x - j]))\n",
    "\n",
    "                if cost < cost_min:\n",
    "                    cost_min  = cost\n",
    "                    disparity = j\n",
    "\n",
    "            # Let depth at (y, x) = j (disparity)\n",
    "            # Multiply by a scale factor for visualization purpose\n",
    "            depth[y, x] = disparity * scale\n",
    "\n",
    "    if save_result == True:\n",
    "        print('Saving result...')\n",
    "        # Save results\n",
    "        cv2.imwrite(f'{result_path}/pixel_wise_l2.png', depth)\n",
    "        cv2.imwrite(f'{result_path}/pixel_wise_l2_color.png', cv2.applyColorMap(depth, cv2.COLORMAP_JET))\n",
    "\n",
    "    print('Done.')\n",
    "\n",
    "    return depth, cv2.applyColorMap(depth, cv2.COLORMAP_JET)"
   ]
  },
  {
   "cell_type": "code",
   "execution_count": 10,
   "id": "7cd89db7-4dbd-4399-9cf3-8b30bbab7301",
   "metadata": {},
   "outputs": [
    {
     "name": "stdout",
     "output_type": "stream",
     "text": [
      "Saving result...\n",
      "Done.\n"
     ]
    }
   ],
   "source": [
    "left_img_path = \"tsukuba/left.png\"\n",
    "right_img_path = \"tsukuba/right.png\"\n",
    "disparity_range = 16\n",
    "\n",
    "depth, color = pixel_wise_matching_l2(left_img_path, right_img_path, disparity_range, save_result=True)\n",
    "\n"
   ]
  },
  {
   "cell_type": "markdown",
   "id": "5fcce5f3-baba-4515-9fd4-f3e8fb9f301e",
   "metadata": {},
   "source": [
    "# Problem 2"
   ]
  },
  {
   "cell_type": "markdown",
   "id": "c2e9f21d-e4e3-41ca-b06e-dad0ea2499ed",
   "metadata": {},
   "source": [
    "## Distance L1"
   ]
  },
  {
   "cell_type": "code",
   "execution_count": 1,
   "id": "3122d000-b1bd-4a2d-b32a-16a491be28b9",
   "metadata": {},
   "outputs": [],
   "source": [
    "import cv2\n",
    "import numpy as np\n",
    "import os\n",
    "\n",
    "problem2_result_path = \"problem2_result\"\n",
    "os.makedirs(problem2_result_path, exist_ok=True)"
   ]
  },
  {
   "cell_type": "code",
   "execution_count": 2,
   "id": "095e6629-abcd-4f96-bbde-eac648ddc62d",
   "metadata": {},
   "outputs": [],
   "source": [
    "def distance_l1(x, y):\n",
    "    return np.abs(x - y)\n",
    "\n",
    "def window_based_matching_l1(left_img, right_img, disparity_range, kernel_size=5, save_result=True):\n",
    "    # Read left, right images then convert to grayscale\n",
    "    left  = cv2.imread(left_img, 0)\n",
    "    right = cv2.imread(right_img, 0)\n",
    "\n",
    "    left  = left.astype(np.float32)\n",
    "    right = right.astype(np.float32)\n",
    "\n",
    "    height, width = left.shape[:2]\n",
    "\n",
    "    # Create blank disparity map\n",
    "    depth = np.zeros((height, width), np.uint8)\n",
    "\n",
    "    kernel_half = int((kernel_size - 1) / 2)\n",
    "    scale = 3\n",
    "    max_value = 255 * 9\n",
    "\n",
    "    for y in range(kernel_half, height - kernel_half):\n",
    "        for x in range(kernel_half, width - kernel_half):\n",
    "            # Find j where cost has minimum value\n",
    "            disparity = 0\n",
    "            cost_min  = 65534\n",
    "\n",
    "            for j in range(disparity_range):\n",
    "                total = 0\n",
    "                value = 0\n",
    "\n",
    "                for v in range(-kernel_half, kernel_half + 1):\n",
    "                    for u in range(-kernel_half, kernel_half + 1):\n",
    "                        value = max_value\n",
    "                        if (x + u - j) >= 0:\n",
    "                            value = distance_l1(int(left[y + v, x + u]), int(right[y + v, (x + u) - j]))\n",
    "                        total += value\n",
    "\n",
    "                if total < cost_min:\n",
    "                    cost_min = total\n",
    "                    disparity = j\n",
    "\n",
    "            depth[y, x] = disparity * scale\n",
    "\n",
    "    if save_result == True:\n",
    "        print('Saving result...')\n",
    "        # Save results\n",
    "        cv2.imwrite(f'{problem2_result_path}/window_based_l1.png', depth)\n",
    "        cv2.imwrite(f'{problem2_result_path}/window_based_l1_color.png', cv2.applyColorMap(depth, cv2.COLORMAP_JET))\n",
    "\n",
    "    print('Done.')\n",
    "\n",
    "    return depth"
   ]
  },
  {
   "cell_type": "code",
   "execution_count": 3,
   "id": "17efcb66-583b-44dd-bec4-fc081ab114bd",
   "metadata": {},
   "outputs": [
    {
     "name": "stdout",
     "output_type": "stream",
     "text": [
      "Saving result...\n",
      "Done.\n"
     ]
    }
   ],
   "source": [
    "left_img_path = 'Aloe/Aloe_left_1.png'\n",
    "right_img_path = 'Aloe/Aloe_right_1.png'\n",
    "disparity_range = 64\n",
    "kernel_size = 3\n",
    "\n",
    "depth = window_based_matching_l1(\n",
    "    left_img_path,\n",
    "    right_img_path,\n",
    "    disparity_range,\n",
    "    kernel_size=kernel_size,\n",
    "    save_result=True\n",
    ")"
   ]
  },
  {
   "cell_type": "markdown",
   "id": "00d04ca2-7d58-4444-ac2b-85e15a87d91a",
   "metadata": {},
   "source": [
    "## Distance L2"
   ]
  },
  {
   "cell_type": "code",
   "execution_count": 8,
   "id": "b3c8d30c-042d-48aa-bac7-9e49125cc0c7",
   "metadata": {},
   "outputs": [],
   "source": [
    "import cv2\n",
    "import numpy as np\n",
    "import os\n",
    "\n",
    "problem2_result_path = \"problem2_result\"\n",
    "os.makedirs(problem2_result_path, exist_ok=True)"
   ]
  },
  {
   "cell_type": "code",
   "execution_count": 9,
   "id": "0da31344-f9b2-4d70-950c-27aa72b3a231",
   "metadata": {},
   "outputs": [],
   "source": [
    "def distance_l2(x, y):\n",
    "    return np.power(x - y, 2)\n",
    "\n",
    "def window_based_matching_l2(left_img, right_img, disparity_range, kernel_size=5, save_result=True):\n",
    "    # Read left, right images then convert to grayscale\n",
    "    left  = cv2.imread(left_img, 0)\n",
    "    right = cv2.imread(right_img, 0)\n",
    "\n",
    "    left  = left.astype(np.float32)\n",
    "    right = right.astype(np.float32)\n",
    "\n",
    "    height, width = left.shape[:2]\n",
    "\n",
    "    # Create blank disparity map\n",
    "    depth = np.zeros((height, width), np.uint8)\n",
    "\n",
    "    kernel_half = int((kernel_size - 1) / 2)\n",
    "    scale = 3\n",
    "    max_value = 255 * 9\n",
    "\n",
    "    for y in range(kernel_half, height - kernel_half):\n",
    "        for x in range(kernel_half, width - kernel_half):\n",
    "            # Find j where cost has minimum value\n",
    "            disparity = 0\n",
    "            cost_min  = 65534\n",
    "\n",
    "            for j in range(disparity_range):\n",
    "                total = 0\n",
    "                value = 0\n",
    "\n",
    "                for v in range(-kernel_half, kernel_half + 1):\n",
    "                    for u in range(-kernel_half, kernel_half + 1):\n",
    "                        value = max_value\n",
    "                        if (x + u - j) >= 0:\n",
    "                            value = distance_l2(int(left[y + v, x + u]), int(right[y + v, (x + u) - j]))\n",
    "                        total += value\n",
    "\n",
    "                if total < cost_min:\n",
    "                    cost_min = total\n",
    "                    disparity = j\n",
    "\n",
    "            depth[y, x] = disparity * scale\n",
    "\n",
    "    if save_result == True:\n",
    "        print('Saving result...')\n",
    "        # Save results\n",
    "        cv2.imwrite(f'{problem2_result_path}/window_based_l2.png', depth)\n",
    "        cv2.imwrite(f'{problem2_result_path}/window_based_l2_color.png', cv2.applyColorMap(depth, cv2.COLORMAP_JET))\n",
    "\n",
    "    print('Done.')\n",
    "\n",
    "    return depth"
   ]
  },
  {
   "cell_type": "code",
   "execution_count": null,
   "id": "1bccc5dc-0233-41af-882f-6583efca39e6",
   "metadata": {},
   "outputs": [],
   "source": []
  }
 ],
 "metadata": {
  "kernelspec": {
   "display_name": "Python 3 (ipykernel)",
   "language": "python",
   "name": "python3"
  },
  "language_info": {
   "codemirror_mode": {
    "name": "ipython",
    "version": 3
   },
   "file_extension": ".py",
   "mimetype": "text/x-python",
   "name": "python",
   "nbconvert_exporter": "python",
   "pygments_lexer": "ipython3",
   "version": "3.10.14"
  }
 },
 "nbformat": 4,
 "nbformat_minor": 5
}
