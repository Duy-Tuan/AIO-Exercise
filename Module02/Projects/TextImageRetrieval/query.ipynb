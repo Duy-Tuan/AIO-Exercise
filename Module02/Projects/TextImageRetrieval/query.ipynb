{
 "cells": [
  {
   "cell_type": "code",
   "execution_count": 2,
   "metadata": {},
   "outputs": [],
   "source": [
    "import numpy as np\n",
    "import os \n",
    "import json\n",
    "import chromadb\n",
    "from core.cfg import embedding_function\n",
    "from core.cfg import COLLECTION_PATH, root_img_path\n",
    "from core.utilies import get_files_path,plot_chromadb_results\n",
    "HNSW_SPACE = \"hnsw:space\"\n",
    "\n",
    "__doc__=[\n",
    "    \"query image in database with chromadb\"\n",
    "]\n",
    "files_path = get_files_path(path=root_img_path)    \n",
    "    \n",
    "def __get_single_image_embedding(image : np.ndarray):\n",
    "    \"\"\"\n",
    "        * Return feature of query image\n",
    "    \"\"\"\n",
    "    embedding = embedding_function._encode_image(image=image)\n",
    "    return np.array(embedding)\n",
    "\n",
    "def __search(image_path, collection, n_results):\n",
    "    query_image = Image.open(image_path)\n",
    "    query_embedding = __get_single_image_embedding(query_image)\n",
    "    results = collection.query(\n",
    "            query_embeddings=[query_embedding.tolist()],\n",
    "            n_results=n_results \n",
    "    )\n",
    "    return results"
   ]
  },
  {
   "cell_type": "markdown",
   "metadata": {},
   "source": [
    "## Collection Loading and Features Loading"
   ]
  },
  {
   "cell_type": "code",
   "execution_count": 3,
   "metadata": {},
   "outputs": [],
   "source": [
    "def load_collection(client,collection_name,metadata,load_path):\n",
    "    \"\"\"\n",
    "        Collection loading: Return Collection\n",
    "        * Collection Building\n",
    "        * Features embeddings loading\n",
    "        * ids loading\n",
    "        * mapping_paths loading\n",
    "    \"\"\"\n",
    "    \n",
    "    # Load the ids from the .json file\n",
    "    ids_path = os.path.join(load_path, 'ids.json')\n",
    "    with open(ids_path, 'r') as ids_file:\n",
    "        ids = json.load(ids_file)\n",
    "\n",
    "    # Load the paths from the .json file\n",
    "    mapping_paths = os.path.join(load_path, 'mapping_paths.json')\n",
    "    with open(mapping_paths, 'r') as paths_file:\n",
    "        mapping = json.load(paths_file)\n",
    "\n",
    "    # Load the embeddings from the .npy file\n",
    "    embeddings_path = os.path.join(load_path, 'embeddings.npy')\n",
    "    embeddings = np.load(embeddings_path, allow_pickle=True)\n",
    "\n",
    "    # Get or create the collection in ChromaDB\n",
    "    #collection = client.get_or_create_collection(name=collection_name)\n",
    "    collection = client.get_or_create_collection( name = collection_name,\n",
    "                                                        metadata={HNSW_SPACE: metadata})\n",
    "    # Add the embeddings and ids back to the collection\n",
    "    collection.add(\n",
    "        embeddings=embeddings.tolist(), \n",
    "        ids = ids)\n",
    "\n",
    "    return collection, mapping"
   ]
  },
  {
   "cell_type": "markdown",
   "metadata": {},
   "source": [
    "## Query by l2"
   ]
  },
  {
   "cell_type": "code",
   "execution_count": 3,
   "metadata": {},
   "outputs": [],
   "source": [
    "client = chromadb.Client()\n",
    "\n",
    "ids_path = os.path.join(COLLECTION_PATH, 'ids.json')\n",
    "with open(ids_path, 'r') as ids_file:\n",
    "    ids = json.load(ids_file)\n",
    "\n",
    "# Load the paths from the .json file\n",
    "mapping_paths = os.path.join(COLLECTION_PATH, 'mapping_paths.json')\n",
    "with open(mapping_paths, 'r') as paths_file:\n",
    "    mapping = json.load(paths_file)\n",
    "\n",
    "# Load the embeddings from the .npy file\n",
    "embeddings_path = os.path.join(COLLECTION_PATH, 'embeddings.npy')\n",
    "embeddings = np.load(embeddings_path, allow_pickle=True)"
   ]
  },
  {
   "cell_type": "code",
   "execution_count": null,
   "metadata": {},
   "outputs": [],
   "source": [
    "l2_collection = client.get_or_create_collection( name = 'l2_collection',\n",
    "                                                        metadata={HNSW_SPACE: \"l2\"})\n",
    "l2_collection.add(\n",
    "    embeddings=embeddings.tolist(), \n",
    "    ids = ids)"
   ]
  },
  {
   "cell_type": "code",
   "execution_count": null,
   "metadata": {},
   "outputs": [],
   "source": [
    "test_path = r'data/test/African_crocodile/n01697457_18534.JPEG'\n",
    "results = __search(image_path=test_path, collection = l2_collection, n_results=5)\n",
    "plot_chromadb_results(test_path, mapping, results)"
   ]
  },
  {
   "cell_type": "markdown",
   "metadata": {},
   "source": [
    "## Query by Cosine"
   ]
  },
  {
   "cell_type": "code",
   "execution_count": null,
   "metadata": {},
   "outputs": [],
   "source": [
    "cosine_collection = client.get_or_create_collection( name = 'cosine_collection',\n",
    "                                                     metadata={HNSW_SPACE: \"cosine\"})\n",
    "cosine_collection.add(\n",
    "    embeddings=embeddings.tolist(), \n",
    "    ids = ids)"
   ]
  },
  {
   "cell_type": "code",
   "execution_count": null,
   "metadata": {},
   "outputs": [],
   "source": [
    "test_path = r'data/test/African_crocodile/n01697457_18534.JPEG'\n",
    "results = __search(image_path=test_path, collection = cosine_collection, n_results=5)\n",
    "plot_chromadb_results(test_path, mapping, results)"
   ]
  }
 ],
 "metadata": {
  "kernelspec": {
   "display_name": "aio",
   "language": "python",
   "name": "python3"
  },
  "language_info": {
   "codemirror_mode": {
    "name": "ipython",
    "version": 3
   },
   "file_extension": ".py",
   "mimetype": "text/x-python",
   "name": "python",
   "nbconvert_exporter": "python",
   "pygments_lexer": "ipython3",
   "version": "3.10.0"
  }
 },
 "nbformat": 4,
 "nbformat_minor": 2
}
