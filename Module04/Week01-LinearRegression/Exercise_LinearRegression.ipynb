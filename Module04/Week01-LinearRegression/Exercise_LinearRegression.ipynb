{
 "cells": [
  {
   "cell_type": "markdown",
   "id": "52a76070-d032-4206-960d-9f64ba2a932f",
   "metadata": {},
   "source": [
    "# Exercise 1"
   ]
  },
  {
   "cell_type": "code",
   "execution_count": 1,
   "id": "2feda260-c2ba-41bc-8bd8-99df54840873",
   "metadata": {},
   "outputs": [],
   "source": [
    "\n",
    "import numpy as np\n",
    "import matplotlib.pyplot as plt\n",
    "import random\n",
    "\n",
    "def get_column(data, index):\n",
    "    return [row[index] for row in data]\n",
    "\n",
    "def prepare_data(file_name_dataset):\n",
    "    data = np.genfromtxt(file_name_dataset, delimiter=',', skip_header=1).tolist()\n",
    "\n",
    "    tv_data = get_column(data, 0)\n",
    "    radio_data = get_column(data, 1)\n",
    "    newspaper_data = get_column(data, 2)\n",
    "    sales_data = get_column(data, 3)\n",
    "\n",
    "    X = [tv_data, radio_data, newspaper_data]\n",
    "    y = sales_data\n",
    "    return X, y"
   ]
  },
  {
   "cell_type": "markdown",
   "id": "f375f3f0-098e-4f4e-b80e-659069dd0ed0",
   "metadata": {},
   "source": [
    "## Question 1"
   ]
  },
  {
   "cell_type": "code",
   "execution_count": 2,
   "id": "4f0ebfd2-8036-4fce-bb0c-9cf7c74cc0cb",
   "metadata": {},
   "outputs": [
    {
     "name": "stdout",
     "output_type": "stream",
     "text": [
      "[624.1, 175.10000000000002, 300.5, 78.9]\n"
     ]
    }
   ],
   "source": [
    "X,y = prepare_data('advertising.csv')\n",
    "list = [sum(X[0][:5]) , sum(X[1][:5]) , sum(X[2][:5]) , sum(y[:5])] \n",
    "print(list)"
   ]
  },
  {
   "cell_type": "markdown",
   "id": "dcd61ffa-86cb-4ea2-98af-c90d452f978d",
   "metadata": {},
   "source": [
    "# Exercise 2"
   ]
  },
  {
   "cell_type": "code",
   "execution_count": 7,
   "id": "8b5b3822-ce8a-4fd0-831c-352675489d5d",
   "metadata": {},
   "outputs": [],
   "source": [
    "def initialize_params():\n",
    "    w1, w2, w3, b = (0.016992259082509283, 0.0070783670518262355, -0.002307860847821344, 0)\n",
    "    return w1, w2, w3, b\n",
    "\n",
    "def predict(x1, x2, x3, w1, w2, w3, b):\n",
    "    return w1 * x1 + w2 * x2 + w3 * x3 + b\n",
    "\n",
    "def compute_loss(y_hat, y):\n",
    "    return (y_hat - y) ** 2\n",
    "\n",
    "def compute_gradient_wi(xi, y, y_hat):\n",
    "    return 2 * (y_hat - y) * xi\n",
    "\n",
    "def compute_gradient_b(y, y_hat):\n",
    "    return 2 * (y_hat - y)\n",
    "\n",
    "def update_weight_wi(wi, dl_dwi, lr):\n",
    "    return wi - lr * dl_dwi\n",
    "\n",
    "def update_weight_b(b, dl_db, lr):\n",
    "    return b - lr * dl_db\n",
    "\n",
    "def implement_linear_regression(X_data, y_data, epoch_max=50, lr=1e-5):\n",
    "    losses = []\n",
    "    w1, w2, w3, b = initialize_params()\n",
    "    N = len(y_data)\n",
    "    for epoch in range(epoch_max):\n",
    "        for i in range(N):\n",
    "            x1 = X_data[0][i]\n",
    "            x2 = X_data[1][i]\n",
    "            x3 = X_data[2][i]\n",
    "            y = y_data[i]\n",
    "            \n",
    "            y_hat = predict(x1, x2, x3, w1, w2, w3, b)\n",
    "\n",
    "            loss = compute_loss(y_hat, y)\n",
    "\n",
    "            dl_dw1 = compute_gradient_wi(x1, y, y_hat)\n",
    "            dl_dw2 = compute_gradient_wi(x2, y, y_hat)\n",
    "            dl_dw3 = compute_gradient_wi(x3, y, y_hat)\n",
    "            dl_db = compute_gradient_b(y, y_hat)\n",
    "\n",
    "            w1 = update_weight_wi(w1, dl_dw1, lr)\n",
    "            w2 = update_weight_wi(w2, dl_dw2, lr)\n",
    "            w3 = update_weight_wi(w3, dl_dw3, lr)\n",
    "            b = update_weight_b(b, dl_db, lr)\n",
    "\n",
    "            losses.append(loss)\n",
    "    return w1, w2, w3, b, losses\n"
   ]
  },
  {
   "cell_type": "markdown",
   "id": "f4aadf5e-49f4-4a79-a35d-ba63cc4853da",
   "metadata": {},
   "source": [
    "## Question 2"
   ]
  },
  {
   "cell_type": "code",
   "execution_count": 8,
   "id": "eda39168-823f-4d73-b08d-c2a2201d2945",
   "metadata": {},
   "outputs": [
    {
     "name": "stdout",
     "output_type": "stream",
     "text": [
      "1.0\n"
     ]
    }
   ],
   "source": [
    "y = predict(x1=1, x2=1, x3=1, w1=0, w2=0.5, w3=0, b=0.5) \n",
    "print(y)"
   ]
  },
  {
   "cell_type": "markdown",
   "id": "0c3d7107-58a5-4268-a78f-ec83f9896aea",
   "metadata": {},
   "source": [
    "## Question 3"
   ]
  },
  {
   "cell_type": "code",
   "execution_count": 9,
   "id": "ce664c93-c32f-4775-af32-f42344f92ec1",
   "metadata": {},
   "outputs": [
    {
     "name": "stdout",
     "output_type": "stream",
     "text": [
      "0.25\n"
     ]
    }
   ],
   "source": [
    "l = compute_loss(y_hat=1, y=0.5) \n",
    "print(l)"
   ]
  },
  {
   "cell_type": "markdown",
   "id": "2ad81b5a-1a6b-4e02-a087-c05b3318a8ef",
   "metadata": {},
   "source": [
    "## Question 4"
   ]
  },
  {
   "cell_type": "code",
   "execution_count": 6,
   "id": "2318051a-a17b-4cda-8121-2d8887b8c818",
   "metadata": {},
   "outputs": [
    {
     "name": "stdout",
     "output_type": "stream",
     "text": [
      "-1.0\n"
     ]
    }
   ],
   "source": [
    "g_wi = compute_gradient_wi(xi=1.0, y=1.0, y_hat =0.5) \n",
    "print(g_wi)"
   ]
  },
  {
   "cell_type": "markdown",
   "id": "5017724a-7112-4b7d-a7ca-08b86b2b0907",
   "metadata": {},
   "source": [
    "## Question 5"
   ]
  },
  {
   "cell_type": "code",
   "execution_count": 10,
   "id": "c6b79d61-edb7-4a59-a1d0-7e7679ffe525",
   "metadata": {},
   "outputs": [
    {
     "name": "stdout",
     "output_type": "stream",
     "text": [
      "-3.0\n"
     ]
    }
   ],
   "source": [
    "g_b = compute_gradient_b(y=2.0, y_hat =0.5) \n",
    "print(g_b)"
   ]
  },
  {
   "cell_type": "markdown",
   "id": "c5ff773e-4977-4a2f-88a8-f53351a182f1",
   "metadata": {},
   "source": [
    "## Question 6"
   ]
  },
  {
   "cell_type": "code",
   "execution_count": 11,
   "id": "c4abc10c-3ca3-4c6b-b41e-227c09544aff",
   "metadata": {},
   "outputs": [
    {
     "name": "stdout",
     "output_type": "stream",
     "text": [
      "1.000005\n"
     ]
    }
   ],
   "source": [
    "after_wi = update_weight_wi(wi=1.0, dl_dwi =-0.5, lr = 1e-5) \n",
    "print(after_wi)"
   ]
  },
  {
   "cell_type": "markdown",
   "id": "46701204-7616-401c-9c33-be2860065b48",
   "metadata": {},
   "source": [
    "## Question 7"
   ]
  },
  {
   "cell_type": "code",
   "execution_count": 12,
   "id": "077cbe20-f4d5-478e-a88b-e1b83b0f60e5",
   "metadata": {},
   "outputs": [
    {
     "name": "stdout",
     "output_type": "stream",
     "text": [
      "0.50001\n",
      "1.000005\n"
     ]
    }
   ],
   "source": [
    "after_b = update_weight_b(b=0.5, dl_db=-1.0, lr = 1e-5) \n",
    "print(after_b) \n",
    "print(after_wi)"
   ]
  },
  {
   "cell_type": "markdown",
   "id": "5fc2229c-37ec-49a2-a6fb-77c84ebc0c11",
   "metadata": {},
   "source": [
    "## Question 8"
   ]
  },
  {
   "cell_type": "code",
   "execution_count": 13,
   "id": "12fc7323-81d5-4d85-b5a5-35f0beaaa0d0",
   "metadata": {},
   "outputs": [
    {
     "data": {
      "image/png": "[encoded data removed]",
      "text/plain": [
       "<Figure size 640x480 with 1 Axes>"
      ]
     },
     "metadata": {},
     "output_type": "display_data"
    }
   ],
   "source": [
    "X, y = prepare_data('advertising.csv')\n",
    "w1, w2, w3, b, losses = implement_linear_regression(X, y)\n",
    "plt.plot(losses[:100])\n",
    "plt.xlabel(\"#iteration\")\n",
    "plt.ylabel(\"Loss\")\n",
    "plt.show()"
   ]
  },
  {
   "cell_type": "code",
   "execution_count": 14,
   "id": "41e4b28a-c138-4503-9720-4695d61e8f12",
   "metadata": {},
   "outputs": [
    {
     "name": "stdout",
     "output_type": "stream",
     "text": [
      "0.07405984066396477 0.15917360263437663 0.017561197559948935\n"
     ]
    }
   ],
   "source": [
    "print(w1 , w2, w3)"
   ]
  },
  {
   "cell_type": "markdown",
   "id": "87f25184-b8a9-4372-bc8f-c3f86fc8c1f4",
   "metadata": {},
   "source": [
    "## Question 9"
   ]
  },
  {
   "cell_type": "code",
   "execution_count": 15,
   "id": "10531389-35b7-494b-8f5b-9f08ae3ebc33",
   "metadata": {},
   "outputs": [
    {
     "name": "stdout",
     "output_type": "stream",
     "text": [
      "predicted sales is 8.176413319549823\n"
     ]
    }
   ],
   "source": [
    "tv = 19.2 \n",
    "radio = 35.9 \n",
    "newspaper = 51.3\n",
    "\n",
    "X,y = prepare_data('advertising.csv') \n",
    "(w1 ,w2 ,w3 ,b, losses) = implement_linear_regression(X, y, epoch_max =50, lr=1e-5)\n",
    "sales = predict(tv, radio , newspaper , w1 , w2, w3, b) \n",
    "print(f'predicted sales is {sales}')"
   ]
  },
  {
   "cell_type": "markdown",
   "id": "7399d5f3-3680-4028-b738-6602a825a58e",
   "metadata": {},
   "source": [
    "## Question 10"
   ]
  },
  {
   "cell_type": "code",
   "execution_count": 17,
   "id": "72ac1650-dff7-4abb-82ff-ea2da5a4e889",
   "metadata": {},
   "outputs": [],
   "source": [
    "def compute_loss_mae(y_hat, y):\n",
    "    return abs(y_hat - y)"
   ]
  },
  {
   "cell_type": "code",
   "execution_count": 18,
   "id": "f229e83b-64db-494f-91ae-25c487233ead",
   "metadata": {},
   "outputs": [
    {
     "name": "stdout",
     "output_type": "stream",
     "text": [
      "0.5\n"
     ]
    }
   ],
   "source": [
    "l = compute_loss_mae(y_hat=1, y=0.5) \n",
    "print(l)"
   ]
  },
  {
   "cell_type": "markdown",
   "id": "f8b1017d-7cc1-4d79-83b0-0c28269c4785",
   "metadata": {},
   "source": [
    "# Exercise 3"
   ]
  },
  {
   "cell_type": "code",
   "execution_count": 23,
   "id": "d37839c6-a8f3-43bb-a3b8-030488e68852",
   "metadata": {},
   "outputs": [],
   "source": [
    "def implement_linear_regression_nsamples(X_data, y_data, epoch_max=1000, lr=1e-5):\n",
    "    losses = []\n",
    "    w1, w2, w3, b = initialize_params()\n",
    "    N = len(y_data)\n",
    "    for epoch in range(epoch_max):\n",
    "        loss_total = 0.0\n",
    "        dw1_total = 0.0\n",
    "        dw2_total = 0.0\n",
    "        dw3_total = 0.0\n",
    "        db_total = 0.0\n",
    "        for i in range(N):\n",
    "            \n",
    "            x1 = X_data[0][i]\n",
    "            x2 = X_data[1][i]\n",
    "            x3 = X_data[2][i]\n",
    "            y = y_data[i]\n",
    "            \n",
    "            y_hat = predict(x1, x2, x3, w1, w2, w3, b)\n",
    "            \n",
    "            loss = compute_loss(y_hat, y)\n",
    "            loss_total += loss\n",
    "            \n",
    "            dw1_total += compute_gradient_wi(x1, y, y_hat)\n",
    "            dw2_total += compute_gradient_wi(x2, y, y_hat)\n",
    "            dw3_total += compute_gradient_wi(x3, y, y_hat)\n",
    "            db_total += compute_gradient_b(y, y_hat)\n",
    "        \n",
    "        w1 = update_weight_wi(w1, dw1_total / N, lr)\n",
    "        w2 = update_weight_wi(w2, dw2_total / N, lr)\n",
    "        w3 = update_weight_wi(w3, dw3_total / N, lr)\n",
    "        b = update_weight_b(b, db_total / N, lr)\n",
    "        \n",
    "        losses.append(loss_total / N)\n",
    "    return w1, w2, w3, b, losses"
   ]
  },
  {
   "cell_type": "code",
   "execution_count": 24,
   "id": "95c4aca6-9ac5-4ec4-b1a1-f2bb49ad39cc",
   "metadata": {},
   "outputs": [
    {
     "data": {
      "image/png": "[encoded data removed]",
      "text/plain": [
       "<Figure size 640x480 with 1 Axes>"
      ]
     },
     "metadata": {},
     "output_type": "display_data"
    }
   ],
   "source": [
    "w1, w2, w3, b, losses_nsamples = implement_linear_regression_nsamples(X, y, epoch_max=100)\n",
    "plt.plot(losses_nsamples)\n",
    "plt.xlabel(\"#epoch\")\n",
    "plt.ylabel(\"MSE Loss\")\n",
    "plt.show()"
   ]
  },
  {
   "cell_type": "markdown",
   "id": "978cdce5-a7de-42b1-9557-8ab74d4092fb",
   "metadata": {},
   "source": [
    "## Question 11"
   ]
  },
  {
   "cell_type": "code",
   "execution_count": 25,
   "id": "bd899925-0038-4367-8929-730f631d20c7",
   "metadata": {},
   "outputs": [
    {
     "name": "stdout",
     "output_type": "stream",
     "text": [
      "0.06710990754044266 0.15756173831487585 0.029619799386084403\n"
     ]
    }
   ],
   "source": [
    "X,y = prepare_data('advertising.csv') \n",
    "#using MSE loss \n",
    "(w1 ,w2 ,w3 ,b, losses) = implement_linear_regression_nsamples(X, y, epoch_max =1000, lr=1e-5)\n",
    "print(w1 ,w2 ,w3)"
   ]
  },
  {
   "cell_type": "markdown",
   "id": "be83d2a4-c042-4783-b694-949de85e0a62",
   "metadata": {},
   "source": [
    "# Exercise 4"
   ]
  },
  {
   "cell_type": "code",
   "execution_count": 32,
   "id": "d3e45b70-caa0-45cd-aeb9-0e7cccd388e8",
   "metadata": {},
   "outputs": [
    {
     "data": {
      "image/png": "[encoded data removed]",
      "text/plain": [
       "<Figure size 640x480 with 1 Axes>"
      ]
     },
     "metadata": {},
     "output_type": "display_data"
    },
    {
     "name": "stdout",
     "output_type": "stream",
     "text": [
      "[0.13922134568608693, 0.07405993048589583, 0.1591738341288154, 0.01756130169377892]\n"
     ]
    }
   ],
   "source": [
    "import numpy as np\n",
    "import matplotlib.pyplot as plt\n",
    "import random\n",
    "\n",
    "\n",
    "def get_column(data, index):\n",
    "    return [row[index] for row in data]\n",
    "\n",
    "def prepare_data_with_bias(file_name_dataset):\n",
    "    data = np.genfromtxt(file_name_dataset, delimiter=',', skip_header=1).tolist()\n",
    "\n",
    "    tv_data = get_column(data, 0)\n",
    "    radio_data = get_column(data, 1)\n",
    "    newspaper_data = get_column(data, 2)\n",
    "    sales_data = get_column(data, 3)\n",
    "    # Xây dựng X và y\n",
    "    X = [[1, x1, x2, x3] for x1, x2, x3 in zip(tv_data, radio_data, newspaper_data)]\n",
    "    y = sales_data\n",
    "    return X, y\n",
    "\n",
    "def predict_with_bias(X_features, weights):\n",
    "    return sum([x * w for x, w in zip(X_features, weights)])\n",
    "\n",
    "def compute_gradient_w(X_features, y, y_hat):\n",
    "    return [2 * (y_hat - y) * x for x in X_features]\n",
    "\n",
    "def update_weights(weights, gradients, lr):\n",
    "    return [w - lr * dw for w, dw in zip(weights, gradients)]\n",
    "\n",
    "def implement_linear_regression_with_bias(X_data, y_data, epoch_max=50, lr=1e-5):\n",
    "    losses = []\n",
    "    weights = [0, -0.01268850433497871, 0.004752496982185252, 0.0073796171538643845]  # Khởi tạo cố định\n",
    "    N = len(y_data)\n",
    "    for epoch in range(epoch_max):\n",
    "        for i in range(N):\n",
    "           \n",
    "            features_i = X_data[i]\n",
    "            y = y_data[i]\n",
    "            \n",
    "            y_hat = predict_with_bias(features_i, weights)\n",
    "            \n",
    "            loss = (y_hat - y) ** 2\n",
    "            \n",
    "            gradients = compute_gradient_w(features_i, y, y_hat)\n",
    "            \n",
    "            weights = update_weights(weights, gradients, lr)\n",
    "           \n",
    "            losses.append(loss)\n",
    "    return weights, losses\n",
    "\n",
    "\n",
    "X_bias, y_bias = prepare_data_with_bias('advertising.csv')\n",
    "weights, losses_bias = implement_linear_regression_with_bias(X_bias, y_bias)\n",
    "plt.plot(losses_bias[:100])\n",
    "plt.xlabel(\"#iteration\")\n",
    "plt.ylabel(\"Loss\")\n",
    "plt.show()\n",
    "\n",
    "\n",
    "print(weights)"
   ]
  },
  {
   "cell_type": "markdown",
   "id": "07f3c088-6458-424b-97e2-fe1062286f78",
   "metadata": {},
   "source": [
    "## Question 12"
   ]
  },
  {
   "cell_type": "code",
   "execution_count": 36,
   "id": "0142a98c-2181-4802-ad19-1d48f4b2b6d0",
   "metadata": {},
   "outputs": [
    {
     "name": "stdout",
     "output_type": "stream",
     "text": [
      "31.339223408109948\n"
     ]
    }
   ],
   "source": [
    "X,y = prepare_data_with_bias('advertising.csv') \n",
    "W,L = implement_linear_regression_with_bias(X, y, epoch_max =50, lr=1e-5)\n",
    "# Print loss value at iteration 9999\n",
    "print(L[9999])"
   ]
  },
  {
   "cell_type": "code",
   "execution_count": null,
   "id": "36ffdc92-bd53-4d41-809e-3652cba7d1b4",
   "metadata": {},
   "outputs": [],
   "source": []
  }
 ],
 "metadata": {
  "kernelspec": {
   "display_name": "Python 3 (ipykernel)",
   "language": "python",
   "name": "python3"
  },
  "language_info": {
   "codemirror_mode": {
    "name": "ipython",
    "version": 3
   },
   "file_extension": ".py",
   "mimetype": "text/x-python",
   "name": "python",
   "nbconvert_exporter": "python",
   "pygments_lexer": "ipython3",
   "version": "3.10.14"
  }
 },
 "nbformat": 4,
 "nbformat_minor": 5
}
